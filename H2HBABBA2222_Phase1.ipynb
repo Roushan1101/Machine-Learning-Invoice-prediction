{
 "cells": [
  {
   "cell_type": "markdown",
   "metadata": {},
   "source": [
    "### Impoting modules"
   ]
  },
  {
   "cell_type": "code",
   "execution_count": 206,
   "metadata": {},
   "outputs": [],
   "source": [
    "import numpy as np\n",
    "import pandas as pd\n",
    "import datetime as dt\n",
    "import  matplotlib.pyplot as plt\n",
    "import seaborn as sns\n",
    "import sklearn\n",
    "from scipy import stats\n",
    "%matplotlib inline\n",
    "import warnings\n",
    "warnings.filterwarnings(\"ignore\")\n",
    "# Importing applying LabelEncoder on 'business_code' feature\n",
    "from sklearn.preprocessing import LabelEncoder"
   ]
  },
  {
   "cell_type": "markdown",
   "metadata": {},
   "source": [
    "### Read DATASET"
   ]
  },
  {
   "cell_type": "code",
   "execution_count": 267,
   "metadata": {},
   "outputs": [],
   "source": [
    "#Data from 'H2HBABBA2000.csv' is stored in 'df' DataFrame using Pandas\n",
    "DataF = pd.read_csv('H2HBABBA2222.csv')\n",
    "\n"
   ]
  },
  {
   "cell_type": "code",
   "execution_count": 265,
   "metadata": {},
   "outputs": [
    {
     "data": {
      "text/html": [
       "<div>\n",
       "<style scoped>\n",
       "    .dataframe tbody tr th:only-of-type {\n",
       "        vertical-align: middle;\n",
       "    }\n",
       "\n",
       "    .dataframe tbody tr th {\n",
       "        vertical-align: top;\n",
       "    }\n",
       "\n",
       "    .dataframe thead th {\n",
       "        text-align: right;\n",
       "    }\n",
       "</style>\n",
       "<table border=\"1\" class=\"dataframe\">\n",
       "  <thead>\n",
       "    <tr style=\"text-align: right;\">\n",
       "      <th></th>\n",
       "      <th>business_code</th>\n",
       "      <th>clear_date</th>\n",
       "      <th>doc_id</th>\n",
       "      <th>posting_date</th>\n",
       "      <th>document_create_date</th>\n",
       "      <th>due_in_date</th>\n",
       "      <th>invoice_currency</th>\n",
       "      <th>total_open_amount</th>\n",
       "    </tr>\n",
       "  </thead>\n",
       "  <tbody>\n",
       "    <tr>\n",
       "      <th>0</th>\n",
       "      <td>U001</td>\n",
       "      <td>2019-10-15 00:00:00</td>\n",
       "      <td>1929922133.0</td>\n",
       "      <td>2019-09-27</td>\n",
       "      <td>20190925</td>\n",
       "      <td>20191012.0</td>\n",
       "      <td>USD</td>\n",
       "      <td>59033.91</td>\n",
       "    </tr>\n",
       "    <tr>\n",
       "      <th>1</th>\n",
       "      <td>U001</td>\n",
       "      <td>2019-03-13 00:00:00</td>\n",
       "      <td>1928857809.0</td>\n",
       "      <td>2019-02-26</td>\n",
       "      <td>20190225</td>\n",
       "      <td>20190313.0</td>\n",
       "      <td>USD</td>\n",
       "      <td>24520.58</td>\n",
       "    </tr>\n",
       "    <tr>\n",
       "      <th>2</th>\n",
       "      <td>U001</td>\n",
       "      <td>NaN</td>\n",
       "      <td>1930720631.0</td>\n",
       "      <td>2020-03-31</td>\n",
       "      <td>20200331</td>\n",
       "      <td>20200415.0</td>\n",
       "      <td>USD</td>\n",
       "      <td>5795.81</td>\n",
       "    </tr>\n",
       "    <tr>\n",
       "      <th>3</th>\n",
       "      <td>U001</td>\n",
       "      <td>NaN</td>\n",
       "      <td>1930666420.0</td>\n",
       "      <td>2020-03-19</td>\n",
       "      <td>20200318</td>\n",
       "      <td>20200403.0</td>\n",
       "      <td>USD</td>\n",
       "      <td>10510.12</td>\n",
       "    </tr>\n",
       "    <tr>\n",
       "      <th>4</th>\n",
       "      <td>U001</td>\n",
       "      <td>2019-01-15 00:00:00</td>\n",
       "      <td>1928588116.0</td>\n",
       "      <td>2019-01-08</td>\n",
       "      <td>20190108</td>\n",
       "      <td>20190124.0</td>\n",
       "      <td>USD</td>\n",
       "      <td>99.36</td>\n",
       "    </tr>\n",
       "    <tr>\n",
       "      <th>5</th>\n",
       "      <td>U001</td>\n",
       "      <td>2019-08-23 00:00:00</td>\n",
       "      <td>1929733337.0</td>\n",
       "      <td>2019-08-12</td>\n",
       "      <td>20190811</td>\n",
       "      <td>20190827.0</td>\n",
       "      <td>USD</td>\n",
       "      <td>42649.45</td>\n",
       "    </tr>\n",
       "    <tr>\n",
       "      <th>6</th>\n",
       "      <td>U001</td>\n",
       "      <td>NaN</td>\n",
       "      <td>1930793629.0</td>\n",
       "      <td>2020-04-16</td>\n",
       "      <td>20200416</td>\n",
       "      <td>20200424.0</td>\n",
       "      <td>USD</td>\n",
       "      <td>8128.38</td>\n",
       "    </tr>\n",
       "    <tr>\n",
       "      <th>7</th>\n",
       "      <td>U001</td>\n",
       "      <td>2019-10-24 00:00:00</td>\n",
       "      <td>1929983133.0</td>\n",
       "      <td>2019-10-09</td>\n",
       "      <td>20191008</td>\n",
       "      <td>20191024.0</td>\n",
       "      <td>USD</td>\n",
       "      <td>75321.19</td>\n",
       "    </tr>\n",
       "    <tr>\n",
       "      <th>8</th>\n",
       "      <td>U001</td>\n",
       "      <td>2019-11-18 00:00:00</td>\n",
       "      <td>1930123934.0</td>\n",
       "      <td>2019-11-07</td>\n",
       "      <td>20191107</td>\n",
       "      <td>20191124.0</td>\n",
       "      <td>USD</td>\n",
       "      <td>763.06</td>\n",
       "    </tr>\n",
       "    <tr>\n",
       "      <th>9</th>\n",
       "      <td>U001</td>\n",
       "      <td>2019-07-25 00:00:00</td>\n",
       "      <td>1929607548.0</td>\n",
       "      <td>2019-07-10</td>\n",
       "      <td>20190710</td>\n",
       "      <td>20190725.0</td>\n",
       "      <td>USD</td>\n",
       "      <td>1534.69</td>\n",
       "    </tr>\n",
       "  </tbody>\n",
       "</table>\n",
       "</div>"
      ],
      "text/plain": [
       "  business_code           clear_date        doc_id posting_date  \\\n",
       "0          U001  2019-10-15 00:00:00  1929922133.0   2019-09-27   \n",
       "1          U001  2019-03-13 00:00:00  1928857809.0   2019-02-26   \n",
       "2          U001                  NaN  1930720631.0   2020-03-31   \n",
       "3          U001                  NaN  1930666420.0   2020-03-19   \n",
       "4          U001  2019-01-15 00:00:00  1928588116.0   2019-01-08   \n",
       "5          U001  2019-08-23 00:00:00  1929733337.0   2019-08-12   \n",
       "6          U001                  NaN  1930793629.0   2020-04-16   \n",
       "7          U001  2019-10-24 00:00:00  1929983133.0   2019-10-09   \n",
       "8          U001  2019-11-18 00:00:00  1930123934.0   2019-11-07   \n",
       "9          U001  2019-07-25 00:00:00  1929607548.0   2019-07-10   \n",
       "\n",
       "   document_create_date  due_in_date invoice_currency  total_open_amount  \n",
       "0              20190925   20191012.0              USD           59033.91  \n",
       "1              20190225   20190313.0              USD           24520.58  \n",
       "2              20200331   20200415.0              USD            5795.81  \n",
       "3              20200318   20200403.0              USD           10510.12  \n",
       "4              20190108   20190124.0              USD              99.36  \n",
       "5              20190811   20190827.0              USD           42649.45  \n",
       "6              20200416   20200424.0              USD            8128.38  \n",
       "7              20191008   20191024.0              USD           75321.19  \n",
       "8              20191107   20191124.0              USD             763.06  \n",
       "9              20190710   20190725.0              USD            1534.69  "
      ]
     },
     "execution_count": 265,
     "metadata": {},
     "output_type": "execute_result"
    }
   ],
   "source": [
    "DataF.head(10)"
   ]
  },
  {
   "cell_type": "markdown",
   "metadata": {},
   "source": [
    "## ------------------------------------------------------------------------------------------------------------------------------------------\n",
    "### DATA PREPROCESSING / FILTERING"
   ]
  },
  {
   "cell_type": "markdown",
   "metadata": {},
   "source": [
    "##### Drop Unnecessary Columns"
   ]
  },
  {
   "cell_type": "code",
   "execution_count": 209,
   "metadata": {},
   "outputs": [
    {
     "data": {
      "text/html": [
       "<div>\n",
       "<style scoped>\n",
       "    .dataframe tbody tr th:only-of-type {\n",
       "        vertical-align: middle;\n",
       "    }\n",
       "\n",
       "    .dataframe tbody tr th {\n",
       "        vertical-align: top;\n",
       "    }\n",
       "\n",
       "    .dataframe thead th {\n",
       "        text-align: right;\n",
       "    }\n",
       "</style>\n",
       "<table border=\"1\" class=\"dataframe\">\n",
       "  <thead>\n",
       "    <tr style=\"text-align: right;\">\n",
       "      <th></th>\n",
       "      <th>doc_id</th>\n",
       "      <th>invoice_id</th>\n",
       "    </tr>\n",
       "  </thead>\n",
       "  <tbody>\n",
       "    <tr>\n",
       "      <th>doc_id</th>\n",
       "      <td>1.0</td>\n",
       "      <td>1.0</td>\n",
       "    </tr>\n",
       "    <tr>\n",
       "      <th>invoice_id</th>\n",
       "      <td>1.0</td>\n",
       "      <td>1.0</td>\n",
       "    </tr>\n",
       "  </tbody>\n",
       "</table>\n",
       "</div>"
      ],
      "text/plain": [
       "            doc_id  invoice_id\n",
       "doc_id         1.0         1.0\n",
       "invoice_id     1.0         1.0"
      ]
     },
     "execution_count": 209,
     "metadata": {},
     "output_type": "execute_result"
    }
   ],
   "source": [
    "arr = DataF[['doc_id', 'invoice_id']]\n",
    "arr.corr()"
   ]
  },
  {
   "cell_type": "code",
   "execution_count": 210,
   "metadata": {},
   "outputs": [],
   "source": [
    "# Droping document_create_date.1 and baseline_create_date due to data duplicacy with posting_date\n",
    "# Droping name_customer, buisness_year because we don't require these features\n",
    "# Droping cust_number as it consists inconsistant data\n",
    "# Droping document type and area_business as they are constant and null columns resp.\n",
    "# Droping invoice_id as it is a duplicate column of doc_id\n",
    "# Droping isOpen as after train_test_split it will become constant column\n",
    "DataF.drop(columns=['cust_number','name_customer', 'buisness_year', 'document_create_date.1', 'document type', 'area_business', 'baseline_create_date', 'cust_payment_terms', 'invoice_id', 'isOpen' ], axis=1, inplace=True)"
   ]
  },
  {
   "cell_type": "code",
   "execution_count": 211,
   "metadata": {},
   "outputs": [
    {
     "data": {
      "text/plain": [
       "(50000, 9)"
      ]
     },
     "execution_count": 211,
     "metadata": {},
     "output_type": "execute_result"
    }
   ],
   "source": [
    "# Notice the deleted columns\n",
    "DataF.shape"
   ]
  },
  {
   "cell_type": "markdown",
   "metadata": {},
   "source": [
    "##### Dropping Constant Columns"
   ]
  },
  {
   "cell_type": "code",
   "execution_count": 212,
   "metadata": {},
   "outputs": [],
   "source": [
    "#This will drop 'posting_id' column\n",
    "DataF = DataF.loc[:,DataF.apply(pd.Series.nunique) != 1]"
   ]
  },
  {
   "cell_type": "code",
   "execution_count": 213,
   "metadata": {},
   "outputs": [
    {
     "data": {
      "text/plain": [
       "(50000, 8)"
      ]
     },
     "execution_count": 213,
     "metadata": {},
     "output_type": "execute_result"
    }
   ],
   "source": [
    "# Notice the deleted column\n",
    "DataF.shape"
   ]
  },
  {
   "cell_type": "code",
   "execution_count": 214,
   "metadata": {},
   "outputs": [
    {
     "data": {
      "text/plain": [
       "business_code               0\n",
       "clear_date              10000\n",
       "doc_id                      0\n",
       "posting_date                0\n",
       "document_create_date        0\n",
       "due_in_date                 0\n",
       "invoice_currency            0\n",
       "total_open_amount           0\n",
       "dtype: int64"
      ]
     },
     "execution_count": 214,
     "metadata": {},
     "output_type": "execute_result"
    }
   ],
   "source": [
    "# Check for column-wise null values\n",
    "DataF.isna().sum()"
   ]
  },
  {
   "cell_type": "markdown",
   "metadata": {},
   "source": [
    "##### Drop All Duplicate Rows"
   ]
  },
  {
   "cell_type": "code",
   "execution_count": 215,
   "metadata": {},
   "outputs": [],
   "source": [
    "#This will remove 1174 duplicate (unwanted) rows\n",
    "DataF = DataF.drop_duplicates(keep='first')"
   ]
  },
  {
   "cell_type": "code",
   "execution_count": 216,
   "metadata": {},
   "outputs": [
    {
     "data": {
      "text/plain": [
       "(48849, 8)"
      ]
     },
     "execution_count": 216,
     "metadata": {},
     "output_type": "execute_result"
    }
   ],
   "source": [
    "# Notice the deleted Rows\n",
    "DataF.shape"
   ]
  },
  {
   "cell_type": "code",
   "execution_count": 217,
   "metadata": {},
   "outputs": [],
   "source": [
    "# Changes the datatype of 'doc_id' column from float to object type\n",
    "DataF['doc_id'] =DataF['doc_id'].astype(str)"
   ]
  },
  {
   "cell_type": "markdown",
   "metadata": {},
   "source": [
    "\n",
    "### SPLITTING THE DATASET TO Train_data and Test_data"
   ]
  },
  {
   "cell_type": "markdown",
   "metadata": {},
   "source": [
    "All the rows in which 'clear_date' column is NULL will be a part of test_data and rest will be our train_data"
   ]
  },
  {
   "cell_type": "code",
   "execution_count": 218,
   "metadata": {},
   "outputs": [],
   "source": [
    "training = pd.notnull(DataF['clear_date'])\n",
    "DataF[training].to_csv('train_data.csv', index=False)"
   ]
  },
  {
   "cell_type": "code",
   "execution_count": 219,
   "metadata": {},
   "outputs": [],
   "source": [
    "testing = pd.isnull(DataF['clear_date'])\n",
    "DataF[testing].to_csv('test_data.csv', index=False)"
   ]
  },
  {
   "cell_type": "markdown",
   "metadata": {},
   "source": [
    "### LOAD TRAINING DATA"
   ]
  },
  {
   "cell_type": "code",
   "execution_count": 220,
   "metadata": {},
   "outputs": [
    {
     "data": {
      "text/plain": [
       "(39111, 8)"
      ]
     },
     "execution_count": 220,
     "metadata": {},
     "output_type": "execute_result"
    }
   ],
   "source": [
    "train = pd.read_csv('train_data.csv')\n",
    "train.shape"
   ]
  },
  {
   "cell_type": "code",
   "execution_count": 221,
   "metadata": {},
   "outputs": [
    {
     "data": {
      "text/html": [
       "<div>\n",
       "<style scoped>\n",
       "    .dataframe tbody tr th:only-of-type {\n",
       "        vertical-align: middle;\n",
       "    }\n",
       "\n",
       "    .dataframe tbody tr th {\n",
       "        vertical-align: top;\n",
       "    }\n",
       "\n",
       "    .dataframe thead th {\n",
       "        text-align: right;\n",
       "    }\n",
       "</style>\n",
       "<table border=\"1\" class=\"dataframe\">\n",
       "  <thead>\n",
       "    <tr style=\"text-align: right;\">\n",
       "      <th></th>\n",
       "      <th>business_code</th>\n",
       "      <th>clear_date</th>\n",
       "      <th>doc_id</th>\n",
       "      <th>posting_date</th>\n",
       "      <th>document_create_date</th>\n",
       "      <th>due_in_date</th>\n",
       "      <th>invoice_currency</th>\n",
       "      <th>total_open_amount</th>\n",
       "    </tr>\n",
       "  </thead>\n",
       "  <tbody>\n",
       "    <tr>\n",
       "      <th>0</th>\n",
       "      <td>U001</td>\n",
       "      <td>2019-10-15 00:00:00</td>\n",
       "      <td>1.929922e+09</td>\n",
       "      <td>2019-09-27</td>\n",
       "      <td>20190925</td>\n",
       "      <td>20191012.0</td>\n",
       "      <td>USD</td>\n",
       "      <td>59033.91</td>\n",
       "    </tr>\n",
       "    <tr>\n",
       "      <th>1</th>\n",
       "      <td>U001</td>\n",
       "      <td>2019-03-13 00:00:00</td>\n",
       "      <td>1.928858e+09</td>\n",
       "      <td>2019-02-26</td>\n",
       "      <td>20190225</td>\n",
       "      <td>20190313.0</td>\n",
       "      <td>USD</td>\n",
       "      <td>24520.58</td>\n",
       "    </tr>\n",
       "    <tr>\n",
       "      <th>2</th>\n",
       "      <td>U001</td>\n",
       "      <td>2019-01-15 00:00:00</td>\n",
       "      <td>1.928588e+09</td>\n",
       "      <td>2019-01-08</td>\n",
       "      <td>20190108</td>\n",
       "      <td>20190124.0</td>\n",
       "      <td>USD</td>\n",
       "      <td>99.36</td>\n",
       "    </tr>\n",
       "    <tr>\n",
       "      <th>3</th>\n",
       "      <td>U001</td>\n",
       "      <td>2019-08-23 00:00:00</td>\n",
       "      <td>1.929733e+09</td>\n",
       "      <td>2019-08-12</td>\n",
       "      <td>20190811</td>\n",
       "      <td>20190827.0</td>\n",
       "      <td>USD</td>\n",
       "      <td>42649.45</td>\n",
       "    </tr>\n",
       "    <tr>\n",
       "      <th>4</th>\n",
       "      <td>U001</td>\n",
       "      <td>2019-10-24 00:00:00</td>\n",
       "      <td>1.929983e+09</td>\n",
       "      <td>2019-10-09</td>\n",
       "      <td>20191008</td>\n",
       "      <td>20191024.0</td>\n",
       "      <td>USD</td>\n",
       "      <td>75321.19</td>\n",
       "    </tr>\n",
       "  </tbody>\n",
       "</table>\n",
       "</div>"
      ],
      "text/plain": [
       "  business_code           clear_date        doc_id posting_date  \\\n",
       "0          U001  2019-10-15 00:00:00  1.929922e+09   2019-09-27   \n",
       "1          U001  2019-03-13 00:00:00  1.928858e+09   2019-02-26   \n",
       "2          U001  2019-01-15 00:00:00  1.928588e+09   2019-01-08   \n",
       "3          U001  2019-08-23 00:00:00  1.929733e+09   2019-08-12   \n",
       "4          U001  2019-10-24 00:00:00  1.929983e+09   2019-10-09   \n",
       "\n",
       "   document_create_date  due_in_date invoice_currency  total_open_amount  \n",
       "0              20190925   20191012.0              USD           59033.91  \n",
       "1              20190225   20190313.0              USD           24520.58  \n",
       "2              20190108   20190124.0              USD              99.36  \n",
       "3              20190811   20190827.0              USD           42649.45  \n",
       "4              20191008   20191024.0              USD           75321.19  "
      ]
     },
     "execution_count": 221,
     "metadata": {},
     "output_type": "execute_result"
    }
   ],
   "source": [
    "train.head()"
   ]
  },
  {
   "cell_type": "markdown",
   "metadata": {},
   "source": [
    "##### Changing Datatypes of Train Data"
   ]
  },
  {
   "cell_type": "code",
   "execution_count": 222,
   "metadata": {},
   "outputs": [
    {
     "name": "stdout",
     "output_type": "stream",
     "text": [
      "<class 'pandas.core.frame.DataFrame'>\n",
      "RangeIndex: 39111 entries, 0 to 39110\n",
      "Data columns (total 8 columns):\n",
      " #   Column                Non-Null Count  Dtype  \n",
      "---  ------                --------------  -----  \n",
      " 0   business_code         39111 non-null  object \n",
      " 1   clear_date            39111 non-null  object \n",
      " 2   doc_id                39111 non-null  float64\n",
      " 3   posting_date          39111 non-null  object \n",
      " 4   document_create_date  39111 non-null  int64  \n",
      " 5   due_in_date           39111 non-null  float64\n",
      " 6   invoice_currency      39111 non-null  object \n",
      " 7   total_open_amount     39111 non-null  float64\n",
      "dtypes: float64(3), int64(1), object(4)\n",
      "memory usage: 1.8+ MB\n"
     ]
    }
   ],
   "source": [
    "# To Check the info of each column in the dataframe\n",
    "train.info()"
   ]
  },
  {
   "cell_type": "code",
   "execution_count": 223,
   "metadata": {},
   "outputs": [],
   "source": [
    "# Converts datatype of 'clear_date' to datetime format\n",
    "train['clear_date'] = pd.to_datetime(train['clear_date'], format='%Y-%m-%d')\n",
    "# Converts datatype of 'doc_id' to integer type\n",
    "train['doc_id'] = train['doc_id'].astype(int)\n",
    "# Converts datatype of 'posting_date' to datetime format\n",
    "train['posting_date'] = pd.to_datetime(train['posting_date'], format='%Y-%m-%d')\n",
    "# Converts datatype of 'due_in_date' to datetime format\n",
    "train['due_in_date'] = pd.to_datetime(train['due_in_date'], format='%Y%m%d')\n",
    "# Converts datatype of 'document_create_date' to datetime format\n",
    "train['document_create_date'] = pd.to_datetime(train['document_create_date'], format='%Y%m%d')"
   ]
  },
  {
   "cell_type": "markdown",
   "metadata": {},
   "source": [
    "##### Convert CAD to USD"
   ]
  },
  {
   "cell_type": "code",
   "execution_count": 224,
   "metadata": {},
   "outputs": [],
   "source": [
    "# Converts the 'total_open_amount' from CAD to USD (as per the recent market price)\n",
    "a,b = train.shape\n",
    "c=0\n",
    "for i in range(a):\n",
    "    if (train.iloc[i,train.columns.get_loc('invoice_currency')] == \"CAD\"):\n",
    "        train.iloc[i,train.columns.get_loc('total_open_amount')] /= 1.23"
   ]
  },
  {
   "cell_type": "markdown",
   "metadata": {},
   "source": [
    "##### DROP 'invoice_currency' COLUMN (after convertion from CAD to USD)"
   ]
  },
  {
   "cell_type": "code",
   "execution_count": 225,
   "metadata": {},
   "outputs": [],
   "source": [
    "train.drop('invoice_currency', axis=1, inplace=True)"
   ]
  },
  {
   "cell_type": "markdown",
   "metadata": {},
   "source": [
    "##### SORT DATA BY 'posting_date' COLUMN"
   ]
  },
  {
   "cell_type": "code",
   "execution_count": 226,
   "metadata": {},
   "outputs": [],
   "source": [
    "# Sorts the train data in ascending order on 'posting_date'\n",
    "train.sort_values(by=['posting_date'], ascending=True, inplace=True)"
   ]
  },
  {
   "cell_type": "code",
   "execution_count": 227,
   "metadata": {},
   "outputs": [
    {
     "name": "stdout",
     "output_type": "stream",
     "text": [
      "<class 'pandas.core.frame.DataFrame'>\n",
      "Int64Index: 39111 entries, 22157 to 36897\n",
      "Data columns (total 7 columns):\n",
      " #   Column                Non-Null Count  Dtype         \n",
      "---  ------                --------------  -----         \n",
      " 0   business_code         39111 non-null  object        \n",
      " 1   clear_date            39111 non-null  datetime64[ns]\n",
      " 2   doc_id                39111 non-null  int32         \n",
      " 3   posting_date          39111 non-null  datetime64[ns]\n",
      " 4   document_create_date  39111 non-null  datetime64[ns]\n",
      " 5   due_in_date           39111 non-null  datetime64[ns]\n",
      " 6   total_open_amount     39111 non-null  float64       \n",
      "dtypes: datetime64[ns](4), float64(1), int32(1), object(1)\n",
      "memory usage: 2.1+ MB\n"
     ]
    }
   ],
   "source": [
    "train.info()"
   ]
  },
  {
   "cell_type": "code",
   "execution_count": 228,
   "metadata": {},
   "outputs": [
    {
     "data": {
      "text/plain": [
       "business_code               6\n",
       "clear_date                402\n",
       "doc_id                  35943\n",
       "posting_date              422\n",
       "document_create_date      426\n",
       "due_in_date               491\n",
       "total_open_amount       35605\n",
       "dtype: int64"
      ]
     },
     "execution_count": 228,
     "metadata": {},
     "output_type": "execute_result"
    }
   ],
   "source": [
    "train.nunique()"
   ]
  },
  {
   "cell_type": "markdown",
   "metadata": {},
   "source": [
    "#### -------------------------------------------------------------------------------------------------------------------------------------------------------------------------------------------------------\n",
    "#### SPLITTING DATA INTO TRAIN, VALIDATION and TEST SETS"
   ]
  },
  {
   "cell_type": "code",
   "execution_count": 229,
   "metadata": {},
   "outputs": [],
   "source": [
    "# Splitting the target column from the train data\n",
    "train['delay'] = (train['clear_date'] - train['due_in_date']).dt.days\n",
    "X = train.drop('delay', axis=1)\n",
    "Y = train['delay']"
   ]
  },
  {
   "cell_type": "markdown",
   "metadata": {},
   "source": [
    "##### Function to Split the Data"
   ]
  },
  {
   "cell_type": "code",
   "execution_count": 230,
   "metadata": {},
   "outputs": [],
   "source": [
    "from sklearn.model_selection import train_test_split\n",
    "def split_train_valid_test(X, Y):\n",
    "    X_train, X_test_init, y_train, y_test_init = train_test_split(X, Y, test_size=.25, random_state=0, shuffle=False, stratify=None)\n",
    "    X_validation, X_test, y_val, y_test = train_test_split(X_test_init, y_test_init, test_size=.50, random_state=0, shuffle=False, stratify=None)\n",
    "    return X_train, y_train, X_validation, y_val, X_test, y_test"
   ]
  },
  {
   "cell_type": "code",
   "execution_count": 231,
   "metadata": {},
   "outputs": [],
   "source": [
    "# Function Calling\n",
    "train_set, y_train, valid_set, y_valid, test_set, y_test = split_train_valid_test(X, Y)"
   ]
  },
  {
   "cell_type": "code",
   "execution_count": 232,
   "metadata": {},
   "outputs": [
    {
     "name": "stdout",
     "output_type": "stream",
     "text": [
      "(29333, 7)\n",
      "(4889, 7)\n",
      "(4889, 7)\n"
     ]
    }
   ],
   "source": [
    "# To check the data distribution\n",
    "print(train_set.shape) # 75%\n",
    "print(valid_set.shape) # 12.5%\n",
    "print(test_set.shape) # 12.5%"
   ]
  },
  {
   "cell_type": "code",
   "execution_count": 233,
   "metadata": {},
   "outputs": [
    {
     "data": {
      "text/html": [
       "<div>\n",
       "<style scoped>\n",
       "    .dataframe tbody tr th:only-of-type {\n",
       "        vertical-align: middle;\n",
       "    }\n",
       "\n",
       "    .dataframe tbody tr th {\n",
       "        vertical-align: top;\n",
       "    }\n",
       "\n",
       "    .dataframe thead th {\n",
       "        text-align: right;\n",
       "    }\n",
       "</style>\n",
       "<table border=\"1\" class=\"dataframe\">\n",
       "  <thead>\n",
       "    <tr style=\"text-align: right;\">\n",
       "      <th></th>\n",
       "      <th>business_code</th>\n",
       "      <th>clear_date</th>\n",
       "      <th>doc_id</th>\n",
       "      <th>posting_date</th>\n",
       "      <th>document_create_date</th>\n",
       "      <th>due_in_date</th>\n",
       "      <th>total_open_amount</th>\n",
       "    </tr>\n",
       "  </thead>\n",
       "  <tbody>\n",
       "    <tr>\n",
       "      <th>22157</th>\n",
       "      <td>U001</td>\n",
       "      <td>2019-01-10</td>\n",
       "      <td>1928543601</td>\n",
       "      <td>2018-12-30</td>\n",
       "      <td>2018-12-30</td>\n",
       "      <td>2019-01-14</td>\n",
       "      <td>10831.45</td>\n",
       "    </tr>\n",
       "    <tr>\n",
       "      <th>19345</th>\n",
       "      <td>U001</td>\n",
       "      <td>2019-01-14</td>\n",
       "      <td>1928541075</td>\n",
       "      <td>2018-12-30</td>\n",
       "      <td>2018-12-29</td>\n",
       "      <td>2019-01-14</td>\n",
       "      <td>17414.53</td>\n",
       "    </tr>\n",
       "    <tr>\n",
       "      <th>30837</th>\n",
       "      <td>U001</td>\n",
       "      <td>2019-01-15</td>\n",
       "      <td>1928536614</td>\n",
       "      <td>2018-12-30</td>\n",
       "      <td>2018-12-29</td>\n",
       "      <td>2019-01-14</td>\n",
       "      <td>67824.54</td>\n",
       "    </tr>\n",
       "    <tr>\n",
       "      <th>29713</th>\n",
       "      <td>U001</td>\n",
       "      <td>2019-01-15</td>\n",
       "      <td>1928540649</td>\n",
       "      <td>2018-12-30</td>\n",
       "      <td>2018-12-29</td>\n",
       "      <td>2019-01-14</td>\n",
       "      <td>12190.97</td>\n",
       "    </tr>\n",
       "    <tr>\n",
       "      <th>6335</th>\n",
       "      <td>U001</td>\n",
       "      <td>2019-01-14</td>\n",
       "      <td>1928541513</td>\n",
       "      <td>2018-12-30</td>\n",
       "      <td>2018-12-29</td>\n",
       "      <td>2019-01-14</td>\n",
       "      <td>68116.64</td>\n",
       "    </tr>\n",
       "  </tbody>\n",
       "</table>\n",
       "</div>"
      ],
      "text/plain": [
       "      business_code clear_date      doc_id posting_date document_create_date  \\\n",
       "22157          U001 2019-01-10  1928543601   2018-12-30           2018-12-30   \n",
       "19345          U001 2019-01-14  1928541075   2018-12-30           2018-12-29   \n",
       "30837          U001 2019-01-15  1928536614   2018-12-30           2018-12-29   \n",
       "29713          U001 2019-01-15  1928540649   2018-12-30           2018-12-29   \n",
       "6335           U001 2019-01-14  1928541513   2018-12-30           2018-12-29   \n",
       "\n",
       "      due_in_date  total_open_amount  \n",
       "22157  2019-01-14           10831.45  \n",
       "19345  2019-01-14           17414.53  \n",
       "30837  2019-01-14           67824.54  \n",
       "29713  2019-01-14           12190.97  \n",
       "6335   2019-01-14           68116.64  "
      ]
     },
     "execution_count": 233,
     "metadata": {},
     "output_type": "execute_result"
    }
   ],
   "source": [
    "train_set.head()"
   ]
  },
  {
   "cell_type": "markdown",
   "metadata": {},
   "source": [
    "## >>>\n",
    "### EDA"
   ]
  },
  {
   "cell_type": "code",
   "execution_count": 234,
   "metadata": {},
   "outputs": [
    {
     "data": {
      "text/plain": [
       "<AxesSubplot:xlabel='delay', ylabel='Density'>"
      ]
     },
     "execution_count": 234,
     "metadata": {},
     "output_type": "execute_result"
    },
    {
     "data": {
      "image/png": "[encoded data removed]",
      "text/plain": [
       "<Figure size 432x288 with 1 Axes>"
      ]
     },
     "metadata": {
      "needs_background": "light"
     },
     "output_type": "display_data"
    }
   ],
   "source": [
    "# distribution of the target column i.e 'delay'\n",
    "# right skewed distribution\n",
    "# outliers present and that too significantly, hence removal of outliers required\n",
    "sns.distplot(y_train)"
   ]
  },
  {
   "cell_type": "markdown",
   "metadata": {},
   "source": [
    "#Several values in our target column are outliers and we have to remove to improve the algorithm"
   ]
  },
  {
   "cell_type": "markdown",
   "metadata": {},
   "source": [
    "##### To remove outliers"
   ]
  },
  {
   "cell_type": "code",
   "execution_count": 235,
   "metadata": {},
   "outputs": [],
   "source": [
    "# Merging train_set and y_train\n",
    "train_set = train_set.merge(y_train, on=train_set.index)"
   ]
  },
  {
   "cell_type": "code",
   "execution_count": 236,
   "metadata": {},
   "outputs": [],
   "source": [
    "# Removing Outliers\n",
    "train_set = train_set[(np.abs(stats.zscore(train_set['delay'])) < 3)]\n",
    "# De-merger of train_set and y_train\n",
    "y_train = train_set['delay']\n",
    "train_set = train_set.drop('delay', axis=1)"
   ]
  },
  {
   "cell_type": "code",
   "execution_count": 237,
   "metadata": {},
   "outputs": [
    {
     "data": {
      "text/plain": [
       "<AxesSubplot:xlabel='delay', ylabel='Density'>"
      ]
     },
     "execution_count": 237,
     "metadata": {},
     "output_type": "execute_result"
    },
    {
     "data": {
      "image/png": "[encoded data removed]",
      "text/plain": [
       "<Figure size 432x288 with 1 Axes>"
      ]
     },
     "metadata": {
      "needs_background": "light"
     },
     "output_type": "display_data"
    }
   ],
   "source": [
    "# Distribution of the target column i.e 'delay'\n",
    "# Data now is a bit normalised\n",
    "sns.distplot(y_train)"
   ]
  },
  {
   "cell_type": "markdown",
   "metadata": {},
   "source": [
    "## FEATURE ENGINEERING "
   ]
  },
  {
   "cell_type": "code",
   "execution_count": 238,
   "metadata": {},
   "outputs": [
    {
     "name": "stdout",
     "output_type": "stream",
     "text": [
      "<class 'pandas.core.frame.DataFrame'>\n",
      "Int64Index: 28570 entries, 0 to 29332\n",
      "Data columns (total 8 columns):\n",
      " #   Column                Non-Null Count  Dtype         \n",
      "---  ------                --------------  -----         \n",
      " 0   key_0                 28570 non-null  int64         \n",
      " 1   business_code         28570 non-null  object        \n",
      " 2   clear_date            28570 non-null  datetime64[ns]\n",
      " 3   doc_id                28570 non-null  int32         \n",
      " 4   posting_date          28570 non-null  datetime64[ns]\n",
      " 5   document_create_date  28570 non-null  datetime64[ns]\n",
      " 6   due_in_date           28570 non-null  datetime64[ns]\n",
      " 7   total_open_amount     28570 non-null  float64       \n",
      "dtypes: datetime64[ns](4), float64(1), int32(1), int64(1), object(1)\n",
      "memory usage: 1.7+ MB\n"
     ]
    }
   ],
   "source": [
    "train_set.info()"
   ]
  },
  {
   "cell_type": "code",
   "execution_count": 239,
   "metadata": {},
   "outputs": [
    {
     "data": {
      "text/html": [
       "<div>\n",
       "<style scoped>\n",
       "    .dataframe tbody tr th:only-of-type {\n",
       "        vertical-align: middle;\n",
       "    }\n",
       "\n",
       "    .dataframe tbody tr th {\n",
       "        vertical-align: top;\n",
       "    }\n",
       "\n",
       "    .dataframe thead th {\n",
       "        text-align: right;\n",
       "    }\n",
       "</style>\n",
       "<table border=\"1\" class=\"dataframe\">\n",
       "  <thead>\n",
       "    <tr style=\"text-align: right;\">\n",
       "      <th></th>\n",
       "      <th>key_0</th>\n",
       "      <th>business_code</th>\n",
       "      <th>clear_date</th>\n",
       "      <th>doc_id</th>\n",
       "      <th>posting_date</th>\n",
       "      <th>document_create_date</th>\n",
       "      <th>due_in_date</th>\n",
       "      <th>total_open_amount</th>\n",
       "    </tr>\n",
       "  </thead>\n",
       "  <tbody>\n",
       "    <tr>\n",
       "      <th>0</th>\n",
       "      <td>22157</td>\n",
       "      <td>U001</td>\n",
       "      <td>2019-01-10</td>\n",
       "      <td>1928543601</td>\n",
       "      <td>2018-12-30</td>\n",
       "      <td>2018-12-30</td>\n",
       "      <td>2019-01-14</td>\n",
       "      <td>10831.45</td>\n",
       "    </tr>\n",
       "    <tr>\n",
       "      <th>1</th>\n",
       "      <td>19345</td>\n",
       "      <td>U001</td>\n",
       "      <td>2019-01-14</td>\n",
       "      <td>1928541075</td>\n",
       "      <td>2018-12-30</td>\n",
       "      <td>2018-12-29</td>\n",
       "      <td>2019-01-14</td>\n",
       "      <td>17414.53</td>\n",
       "    </tr>\n",
       "    <tr>\n",
       "      <th>2</th>\n",
       "      <td>30837</td>\n",
       "      <td>U001</td>\n",
       "      <td>2019-01-15</td>\n",
       "      <td>1928536614</td>\n",
       "      <td>2018-12-30</td>\n",
       "      <td>2018-12-29</td>\n",
       "      <td>2019-01-14</td>\n",
       "      <td>67824.54</td>\n",
       "    </tr>\n",
       "    <tr>\n",
       "      <th>3</th>\n",
       "      <td>29713</td>\n",
       "      <td>U001</td>\n",
       "      <td>2019-01-15</td>\n",
       "      <td>1928540649</td>\n",
       "      <td>2018-12-30</td>\n",
       "      <td>2018-12-29</td>\n",
       "      <td>2019-01-14</td>\n",
       "      <td>12190.97</td>\n",
       "    </tr>\n",
       "    <tr>\n",
       "      <th>4</th>\n",
       "      <td>6335</td>\n",
       "      <td>U001</td>\n",
       "      <td>2019-01-14</td>\n",
       "      <td>1928541513</td>\n",
       "      <td>2018-12-30</td>\n",
       "      <td>2018-12-29</td>\n",
       "      <td>2019-01-14</td>\n",
       "      <td>68116.64</td>\n",
       "    </tr>\n",
       "  </tbody>\n",
       "</table>\n",
       "</div>"
      ],
      "text/plain": [
       "   key_0 business_code clear_date      doc_id posting_date  \\\n",
       "0  22157          U001 2019-01-10  1928543601   2018-12-30   \n",
       "1  19345          U001 2019-01-14  1928541075   2018-12-30   \n",
       "2  30837          U001 2019-01-15  1928536614   2018-12-30   \n",
       "3  29713          U001 2019-01-15  1928540649   2018-12-30   \n",
       "4   6335          U001 2019-01-14  1928541513   2018-12-30   \n",
       "\n",
       "  document_create_date due_in_date  total_open_amount  \n",
       "0           2018-12-30  2019-01-14           10831.45  \n",
       "1           2018-12-29  2019-01-14           17414.53  \n",
       "2           2018-12-29  2019-01-14           67824.54  \n",
       "3           2018-12-29  2019-01-14           12190.97  \n",
       "4           2018-12-29  2019-01-14           68116.64  "
      ]
     },
     "execution_count": 239,
     "metadata": {},
     "output_type": "execute_result"
    }
   ],
   "source": [
    "train_set.head()"
   ]
  },
  {
   "cell_type": "code",
   "execution_count": 240,
   "metadata": {},
   "outputs": [
    {
     "data": {
      "text/plain": [
       "U001    25765\n",
       "CA02     2296\n",
       "U013      401\n",
       "U002       97\n",
       "U005        9\n",
       "U007        2\n",
       "Name: business_code, dtype: int64"
      ]
     },
     "execution_count": 240,
     "metadata": {},
     "output_type": "execute_result"
    }
   ],
   "source": [
    "train_set.business_code.value_counts()"
   ]
  },
  {
   "cell_type": "code",
   "execution_count": 241,
   "metadata": {},
   "outputs": [],
   "source": [
    "#Now label Encoding for conversion string into numbers\n",
    "\n",
    "busi_code_enc = LabelEncoder()\n",
    "busi_code_enc.fit(train_set['business_code'])\n",
    "train_set['busi_code_enc'] = busi_code_enc.transform(train_set['business_code'])"
   ]
  },
  {
   "cell_type": "code",
   "execution_count": 242,
   "metadata": {},
   "outputs": [],
   "source": [
    "# Applying changes in valid_set and test_set\n",
    "valid_set['busi_code_enc'] = busi_code_enc.transform(valid_set['business_code'])\n",
    "test_set['busi_code_enc'] = busi_code_enc.transform(test_set['business_code'])"
   ]
  },
  {
   "cell_type": "code",
   "execution_count": 243,
   "metadata": {},
   "outputs": [],
   "source": [
    "# Function will drop a column from train, validation and test dataset\n",
    "def drop_column(col ,traindf = train_set, valdf = valid_set, testdf = test_set):\n",
    "    traindf.drop(col, axis =1, inplace=True)\n",
    "    valdf.drop(col,axis=1 , inplace=True)\n",
    "    testdf.drop(col,axis=1 , inplace=True)\n",
    "\n",
    "    return traindf,valdf ,testdf"
   ]
  },
  {
   "cell_type": "code",
   "execution_count": 244,
   "metadata": {},
   "outputs": [],
   "source": [
    "# Removing unwanted features from all data sets\n",
    "train_set, valid_set, test_set = drop_column(['business_code'])\n",
    "train_set, valid_set, test_set = drop_column(['clear_date'])"
   ]
  },
  {
   "cell_type": "code",
   "execution_count": 245,
   "metadata": {},
   "outputs": [
    {
     "name": "stdout",
     "output_type": "stream",
     "text": [
      "<class 'pandas.core.frame.DataFrame'>\n",
      "Int64Index: 28570 entries, 0 to 29332\n",
      "Data columns (total 7 columns):\n",
      " #   Column                Non-Null Count  Dtype         \n",
      "---  ------                --------------  -----         \n",
      " 0   key_0                 28570 non-null  int64         \n",
      " 1   doc_id                28570 non-null  int32         \n",
      " 2   posting_date          28570 non-null  datetime64[ns]\n",
      " 3   document_create_date  28570 non-null  datetime64[ns]\n",
      " 4   due_in_date           28570 non-null  datetime64[ns]\n",
      " 5   total_open_amount     28570 non-null  float64       \n",
      " 6   busi_code_enc         28570 non-null  int32         \n",
      "dtypes: datetime64[ns](3), float64(1), int32(2), int64(1)\n",
      "memory usage: 1.5 MB\n"
     ]
    }
   ],
   "source": [
    "train_set.info()"
   ]
  },
  {
   "cell_type": "markdown",
   "metadata": {},
   "source": [
    "##### Converting all datetime features to int type"
   ]
  },
  {
   "cell_type": "code",
   "execution_count": 246,
   "metadata": {},
   "outputs": [],
   "source": [
    "# Extract day, month and year from posting_date\n",
    "\n",
    "train_set['Posting_Day'] = train_set['posting_date'].dt.day\n",
    "train_set['Posting_Month'] = train_set['posting_date'].dt.month\n",
    "train_set['Posting_Year'] = train_set['posting_date'].dt.year\n",
    "\n",
    "valid_set['Posting_Day'] = valid_set['posting_date'].dt.day\n",
    "valid_set['Posting_Month'] = valid_set['posting_date'].dt.month\n",
    "valid_set['Posting_Year'] = valid_set['posting_date'].dt.year\n",
    "\n",
    "\n",
    "test_set['Posting_Day'] = test_set['posting_date'].dt.day\n",
    "test_set['Posting_Month'] = test_set['posting_date'].dt.month\n",
    "test_set['Posting_Year'] = test_set['posting_date'].dt.year"
   ]
  },
  {
   "cell_type": "code",
   "execution_count": 247,
   "metadata": {},
   "outputs": [],
   "source": [
    "train_set, valid_set, test_set = drop_column(['posting_date'])"
   ]
  },
  {
   "cell_type": "code",
   "execution_count": 248,
   "metadata": {},
   "outputs": [],
   "source": [
    "# Extract day, month and year from document_create_date\n",
    "\n",
    "train_set['Doc_Create_Day'] = train_set['document_create_date'].dt.day\n",
    "train_set['Doc_Create_Month'] = train_set['document_create_date'].dt.month\n",
    "train_set['Doc_Create_Year'] = train_set['document_create_date'].dt.year\n",
    "\n",
    "valid_set['Doc_Create_Day'] = valid_set['document_create_date'].dt.day\n",
    "valid_set['Doc_Create_Month'] = valid_set['document_create_date'].dt.month\n",
    "valid_set['Doc_Create_Year'] = valid_set['document_create_date'].dt.year\n",
    "\n",
    "\n",
    "test_set['Doc_Create_Day'] = test_set['document_create_date'].dt.day\n",
    "test_set['Doc_Create_Month'] = test_set['document_create_date'].dt.month\n",
    "test_set['Doc_Create_Year'] = test_set['document_create_date'].dt.year"
   ]
  },
  {
   "cell_type": "code",
   "execution_count": 249,
   "metadata": {},
   "outputs": [],
   "source": [
    "train_set, valid_set, test_set = drop_column(['document_create_date'])"
   ]
  },
  {
   "cell_type": "code",
   "execution_count": 250,
   "metadata": {},
   "outputs": [],
   "source": [
    "# Extract day, month and year from due_in_date\n",
    "\n",
    "train_set['Due_in_Day'] = train_set['due_in_date'].dt.day\n",
    "train_set['Due_in_Month'] = train_set['due_in_date'].dt.month\n",
    "train_set['Due_in_Year'] = train_set['due_in_date'].dt.year\n",
    "\n",
    "valid_set['Due_in_Day'] = valid_set['due_in_date'].dt.day\n",
    "valid_set['Due_in_Month'] = valid_set['due_in_date'].dt.month\n",
    "valid_set['Due_in_Year'] = valid_set['due_in_date'].dt.year\n",
    "\n",
    "\n",
    "test_set['Due_in_Day'] = test_set['due_in_date'].dt.day\n",
    "test_set['Due_in_Month'] = test_set['due_in_date'].dt.month\n",
    "test_set['Due_in_Year'] = test_set['due_in_date'].dt.year"
   ]
  },
  {
   "cell_type": "code",
   "execution_count": 251,
   "metadata": {},
   "outputs": [],
   "source": [
    "train_set, valid_set, test_set = drop_column(['due_in_date'])\n"
   ]
  },
  {
   "cell_type": "code",
   "execution_count": null,
   "metadata": {},
   "outputs": [],
   "source": []
  },
  {
   "cell_type": "code",
   "execution_count": 252,
   "metadata": {},
   "outputs": [
    {
     "name": "stdout",
     "output_type": "stream",
     "text": [
      "<class 'pandas.core.frame.DataFrame'>\n",
      "Int64Index: 28570 entries, 0 to 29332\n",
      "Data columns (total 13 columns):\n",
      " #   Column             Non-Null Count  Dtype  \n",
      "---  ------             --------------  -----  \n",
      " 0   key_0              28570 non-null  int64  \n",
      " 1   doc_id             28570 non-null  int32  \n",
      " 2   total_open_amount  28570 non-null  float64\n",
      " 3   busi_code_enc      28570 non-null  int32  \n",
      " 4   Posting_Day        28570 non-null  int64  \n",
      " 5   Posting_Month      28570 non-null  int64  \n",
      " 6   Posting_Year       28570 non-null  int64  \n",
      " 7   Doc_Create_Day     28570 non-null  int64  \n",
      " 8   Doc_Create_Month   28570 non-null  int64  \n",
      " 9   Doc_Create_Year    28570 non-null  int64  \n",
      " 10  Due_in_Day         28570 non-null  int64  \n",
      " 11  Due_in_Month       28570 non-null  int64  \n",
      " 12  Due_in_Year        28570 non-null  int64  \n",
      "dtypes: float64(1), int32(2), int64(10)\n",
      "memory usage: 2.8 MB\n"
     ]
    }
   ],
   "source": [
    "train_set.info()"
   ]
  },
  {
   "cell_type": "code",
   "execution_count": 253,
   "metadata": {},
   "outputs": [],
   "source": [
    "train_set.drop(['key_0'], axis=1, inplace=True)"
   ]
  },
  {
   "cell_type": "markdown",
   "metadata": {},
   "source": [
    "## ***\n",
    "### FEATURE SELECTION***"
   ]
  },
  {
   "cell_type": "markdown",
   "metadata": {},
   "source": [
    "##### Using Heatmap showing correlation with target column"
   ]
  },
  {
   "cell_type": "code",
   "execution_count": 254,
   "metadata": {},
   "outputs": [
    {
     "data": {
      "text/plain": [
       "<AxesSubplot:title={'center':'Pearson Correlation of Features'}>"
      ]
     },
     "execution_count": 254,
     "metadata": {},
     "output_type": "execute_result"
    },
    {
     "data": {
      "image/png": "[encoded data removed]",
      "text/plain": [
       "<Figure size 1080x864 with 2 Axes>"
      ]
     },
     "metadata": {
      "needs_background": "light"
     },
     "output_type": "display_data"
    }
   ],
   "source": [
    "colormap = plt.cm.RdBu\n",
    "plt.figure(figsize=(15,12))\n",
    "plt.title('Pearson Correlation of Features', y=1.05, size=15)\n",
    "sns.heatmap(train_set.merge(y_train, on = train_set.index ).corr(),\n",
    "            linewidths=0.1, vmax=1.0, square=True, \n",
    "            cmap=colormap, linecolor='white', annot=True)"
   ]
  },
  {
   "cell_type": "code",
   "execution_count": 255,
   "metadata": {},
   "outputs": [
    {
     "data": {
      "text/plain": [
       "array([1.22913686e+18, 1.41421557e+09, 3.09821071e-01, 7.63293448e+01,\n",
       "       7.95573843e+00, 4.56420493e-03, 7.59702174e+01, 8.00614138e+00,\n",
       "       6.98585559e-03, 7.72658459e+01, 8.11008984e+00, 3.50005250e-05])"
      ]
     },
     "execution_count": 255,
     "metadata": {},
     "output_type": "execute_result"
    }
   ],
   "source": [
    "# From the above Graph we can see that 'due_in_Year' is a constant feature, hence we have to drop this feature\n",
    "from sklearn.feature_selection import VarianceThreshold\n",
    "sel = VarianceThreshold(0.8)\n",
    "sel.fit(train_set)\n",
    "sel.variances_"
   ]
  },
  {
   "cell_type": "code",
   "execution_count": 264,
   "metadata": {},
   "outputs": [
    {
     "ename": "KeyError",
     "evalue": "\"['Due_in_Year'] not found in axis\"",
     "output_type": "error",
     "traceback": [
      "\u001b[1;31m---------------------------------------------------------------------------\u001b[0m",
      "\u001b[1;31mKeyError\u001b[0m                                  Traceback (most recent call last)",
      "\u001b[1;32m<ipython-input-264-51f85b04def9>\u001b[0m in \u001b[0;36m<module>\u001b[1;34m\u001b[0m\n\u001b[0;32m      1\u001b[0m \u001b[1;31m# Dropping the feature\u001b[0m\u001b[1;33m\u001b[0m\u001b[1;33m\u001b[0m\u001b[1;33m\u001b[0m\u001b[0m\n\u001b[1;32m----> 2\u001b[1;33m \u001b[0mtrain_set\u001b[0m\u001b[1;33m,\u001b[0m \u001b[0mvalid_set\u001b[0m\u001b[1;33m,\u001b[0m \u001b[0mtest_set\u001b[0m \u001b[1;33m=\u001b[0m \u001b[0mdrop_column\u001b[0m\u001b[1;33m(\u001b[0m\u001b[1;33m[\u001b[0m\u001b[1;34m'Due_in_Year'\u001b[0m\u001b[1;33m]\u001b[0m\u001b[1;33m)\u001b[0m\u001b[1;33m\u001b[0m\u001b[1;33m\u001b[0m\u001b[0m\n\u001b[0m",
      "\u001b[1;32m<ipython-input-243-ade395f3a336>\u001b[0m in \u001b[0;36mdrop_column\u001b[1;34m(col, traindf, valdf, testdf)\u001b[0m\n\u001b[0;32m      1\u001b[0m \u001b[1;31m# Function will drop a column from train, validation and test dataset\u001b[0m\u001b[1;33m\u001b[0m\u001b[1;33m\u001b[0m\u001b[1;33m\u001b[0m\u001b[0m\n\u001b[0;32m      2\u001b[0m \u001b[1;32mdef\u001b[0m \u001b[0mdrop_column\u001b[0m\u001b[1;33m(\u001b[0m\u001b[0mcol\u001b[0m \u001b[1;33m,\u001b[0m\u001b[0mtraindf\u001b[0m \u001b[1;33m=\u001b[0m \u001b[0mtrain_set\u001b[0m\u001b[1;33m,\u001b[0m \u001b[0mvaldf\u001b[0m \u001b[1;33m=\u001b[0m \u001b[0mvalid_set\u001b[0m\u001b[1;33m,\u001b[0m \u001b[0mtestdf\u001b[0m \u001b[1;33m=\u001b[0m \u001b[0mtest_set\u001b[0m\u001b[1;33m)\u001b[0m\u001b[1;33m:\u001b[0m\u001b[1;33m\u001b[0m\u001b[1;33m\u001b[0m\u001b[0m\n\u001b[1;32m----> 3\u001b[1;33m     \u001b[0mtraindf\u001b[0m\u001b[1;33m.\u001b[0m\u001b[0mdrop\u001b[0m\u001b[1;33m(\u001b[0m\u001b[0mcol\u001b[0m\u001b[1;33m,\u001b[0m \u001b[0maxis\u001b[0m \u001b[1;33m=\u001b[0m\u001b[1;36m1\u001b[0m\u001b[1;33m,\u001b[0m \u001b[0minplace\u001b[0m\u001b[1;33m=\u001b[0m\u001b[1;32mTrue\u001b[0m\u001b[1;33m)\u001b[0m\u001b[1;33m\u001b[0m\u001b[1;33m\u001b[0m\u001b[0m\n\u001b[0m\u001b[0;32m      4\u001b[0m     \u001b[0mvaldf\u001b[0m\u001b[1;33m.\u001b[0m\u001b[0mdrop\u001b[0m\u001b[1;33m(\u001b[0m\u001b[0mcol\u001b[0m\u001b[1;33m,\u001b[0m\u001b[0maxis\u001b[0m\u001b[1;33m=\u001b[0m\u001b[1;36m1\u001b[0m \u001b[1;33m,\u001b[0m \u001b[0minplace\u001b[0m\u001b[1;33m=\u001b[0m\u001b[1;32mTrue\u001b[0m\u001b[1;33m)\u001b[0m\u001b[1;33m\u001b[0m\u001b[1;33m\u001b[0m\u001b[0m\n\u001b[0;32m      5\u001b[0m     \u001b[0mtestdf\u001b[0m\u001b[1;33m.\u001b[0m\u001b[0mdrop\u001b[0m\u001b[1;33m(\u001b[0m\u001b[0mcol\u001b[0m\u001b[1;33m,\u001b[0m\u001b[0maxis\u001b[0m\u001b[1;33m=\u001b[0m\u001b[1;36m1\u001b[0m \u001b[1;33m,\u001b[0m \u001b[0minplace\u001b[0m\u001b[1;33m=\u001b[0m\u001b[1;32mTrue\u001b[0m\u001b[1;33m)\u001b[0m\u001b[1;33m\u001b[0m\u001b[1;33m\u001b[0m\u001b[0m\n",
      "\u001b[1;32mc:\\users\\rkkr9\\appdata\\local\\programs\\python\\python38-32\\lib\\site-packages\\pandas\\core\\frame.py\u001b[0m in \u001b[0;36mdrop\u001b[1;34m(self, labels, axis, index, columns, level, inplace, errors)\u001b[0m\n\u001b[0;32m   4306\u001b[0m                 \u001b[0mweight\u001b[0m  \u001b[1;36m1.0\u001b[0m     \u001b[1;36m0.8\u001b[0m\u001b[1;33m\u001b[0m\u001b[1;33m\u001b[0m\u001b[0m\n\u001b[0;32m   4307\u001b[0m         \"\"\"\n\u001b[1;32m-> 4308\u001b[1;33m         return super().drop(\n\u001b[0m\u001b[0;32m   4309\u001b[0m             \u001b[0mlabels\u001b[0m\u001b[1;33m=\u001b[0m\u001b[0mlabels\u001b[0m\u001b[1;33m,\u001b[0m\u001b[1;33m\u001b[0m\u001b[1;33m\u001b[0m\u001b[0m\n\u001b[0;32m   4310\u001b[0m             \u001b[0maxis\u001b[0m\u001b[1;33m=\u001b[0m\u001b[0maxis\u001b[0m\u001b[1;33m,\u001b[0m\u001b[1;33m\u001b[0m\u001b[1;33m\u001b[0m\u001b[0m\n",
      "\u001b[1;32mc:\\users\\rkkr9\\appdata\\local\\programs\\python\\python38-32\\lib\\site-packages\\pandas\\core\\generic.py\u001b[0m in \u001b[0;36mdrop\u001b[1;34m(self, labels, axis, index, columns, level, inplace, errors)\u001b[0m\n\u001b[0;32m   4151\u001b[0m         \u001b[1;32mfor\u001b[0m \u001b[0maxis\u001b[0m\u001b[1;33m,\u001b[0m \u001b[0mlabels\u001b[0m \u001b[1;32min\u001b[0m \u001b[0maxes\u001b[0m\u001b[1;33m.\u001b[0m\u001b[0mitems\u001b[0m\u001b[1;33m(\u001b[0m\u001b[1;33m)\u001b[0m\u001b[1;33m:\u001b[0m\u001b[1;33m\u001b[0m\u001b[1;33m\u001b[0m\u001b[0m\n\u001b[0;32m   4152\u001b[0m             \u001b[1;32mif\u001b[0m \u001b[0mlabels\u001b[0m \u001b[1;32mis\u001b[0m \u001b[1;32mnot\u001b[0m \u001b[1;32mNone\u001b[0m\u001b[1;33m:\u001b[0m\u001b[1;33m\u001b[0m\u001b[1;33m\u001b[0m\u001b[0m\n\u001b[1;32m-> 4153\u001b[1;33m                 \u001b[0mobj\u001b[0m \u001b[1;33m=\u001b[0m \u001b[0mobj\u001b[0m\u001b[1;33m.\u001b[0m\u001b[0m_drop_axis\u001b[0m\u001b[1;33m(\u001b[0m\u001b[0mlabels\u001b[0m\u001b[1;33m,\u001b[0m \u001b[0maxis\u001b[0m\u001b[1;33m,\u001b[0m \u001b[0mlevel\u001b[0m\u001b[1;33m=\u001b[0m\u001b[0mlevel\u001b[0m\u001b[1;33m,\u001b[0m \u001b[0merrors\u001b[0m\u001b[1;33m=\u001b[0m\u001b[0merrors\u001b[0m\u001b[1;33m)\u001b[0m\u001b[1;33m\u001b[0m\u001b[1;33m\u001b[0m\u001b[0m\n\u001b[0m\u001b[0;32m   4154\u001b[0m \u001b[1;33m\u001b[0m\u001b[0m\n\u001b[0;32m   4155\u001b[0m         \u001b[1;32mif\u001b[0m \u001b[0minplace\u001b[0m\u001b[1;33m:\u001b[0m\u001b[1;33m\u001b[0m\u001b[1;33m\u001b[0m\u001b[0m\n",
      "\u001b[1;32mc:\\users\\rkkr9\\appdata\\local\\programs\\python\\python38-32\\lib\\site-packages\\pandas\\core\\generic.py\u001b[0m in \u001b[0;36m_drop_axis\u001b[1;34m(self, labels, axis, level, errors)\u001b[0m\n\u001b[0;32m   4186\u001b[0m                 \u001b[0mnew_axis\u001b[0m \u001b[1;33m=\u001b[0m \u001b[0maxis\u001b[0m\u001b[1;33m.\u001b[0m\u001b[0mdrop\u001b[0m\u001b[1;33m(\u001b[0m\u001b[0mlabels\u001b[0m\u001b[1;33m,\u001b[0m \u001b[0mlevel\u001b[0m\u001b[1;33m=\u001b[0m\u001b[0mlevel\u001b[0m\u001b[1;33m,\u001b[0m \u001b[0merrors\u001b[0m\u001b[1;33m=\u001b[0m\u001b[0merrors\u001b[0m\u001b[1;33m)\u001b[0m\u001b[1;33m\u001b[0m\u001b[1;33m\u001b[0m\u001b[0m\n\u001b[0;32m   4187\u001b[0m             \u001b[1;32melse\u001b[0m\u001b[1;33m:\u001b[0m\u001b[1;33m\u001b[0m\u001b[1;33m\u001b[0m\u001b[0m\n\u001b[1;32m-> 4188\u001b[1;33m                 \u001b[0mnew_axis\u001b[0m \u001b[1;33m=\u001b[0m \u001b[0maxis\u001b[0m\u001b[1;33m.\u001b[0m\u001b[0mdrop\u001b[0m\u001b[1;33m(\u001b[0m\u001b[0mlabels\u001b[0m\u001b[1;33m,\u001b[0m \u001b[0merrors\u001b[0m\u001b[1;33m=\u001b[0m\u001b[0merrors\u001b[0m\u001b[1;33m)\u001b[0m\u001b[1;33m\u001b[0m\u001b[1;33m\u001b[0m\u001b[0m\n\u001b[0m\u001b[0;32m   4189\u001b[0m             \u001b[0mresult\u001b[0m \u001b[1;33m=\u001b[0m \u001b[0mself\u001b[0m\u001b[1;33m.\u001b[0m\u001b[0mreindex\u001b[0m\u001b[1;33m(\u001b[0m\u001b[1;33m**\u001b[0m\u001b[1;33m{\u001b[0m\u001b[0maxis_name\u001b[0m\u001b[1;33m:\u001b[0m \u001b[0mnew_axis\u001b[0m\u001b[1;33m}\u001b[0m\u001b[1;33m)\u001b[0m\u001b[1;33m\u001b[0m\u001b[1;33m\u001b[0m\u001b[0m\n\u001b[0;32m   4190\u001b[0m \u001b[1;33m\u001b[0m\u001b[0m\n",
      "\u001b[1;32mc:\\users\\rkkr9\\appdata\\local\\programs\\python\\python38-32\\lib\\site-packages\\pandas\\core\\indexes\\base.py\u001b[0m in \u001b[0;36mdrop\u001b[1;34m(self, labels, errors)\u001b[0m\n\u001b[0;32m   5589\u001b[0m         \u001b[1;32mif\u001b[0m \u001b[0mmask\u001b[0m\u001b[1;33m.\u001b[0m\u001b[0many\u001b[0m\u001b[1;33m(\u001b[0m\u001b[1;33m)\u001b[0m\u001b[1;33m:\u001b[0m\u001b[1;33m\u001b[0m\u001b[1;33m\u001b[0m\u001b[0m\n\u001b[0;32m   5590\u001b[0m             \u001b[1;32mif\u001b[0m \u001b[0merrors\u001b[0m \u001b[1;33m!=\u001b[0m \u001b[1;34m\"ignore\"\u001b[0m\u001b[1;33m:\u001b[0m\u001b[1;33m\u001b[0m\u001b[1;33m\u001b[0m\u001b[0m\n\u001b[1;32m-> 5591\u001b[1;33m                 \u001b[1;32mraise\u001b[0m \u001b[0mKeyError\u001b[0m\u001b[1;33m(\u001b[0m\u001b[1;34mf\"{labels[mask]} not found in axis\"\u001b[0m\u001b[1;33m)\u001b[0m\u001b[1;33m\u001b[0m\u001b[1;33m\u001b[0m\u001b[0m\n\u001b[0m\u001b[0;32m   5592\u001b[0m             \u001b[0mindexer\u001b[0m \u001b[1;33m=\u001b[0m \u001b[0mindexer\u001b[0m\u001b[1;33m[\u001b[0m\u001b[1;33m~\u001b[0m\u001b[0mmask\u001b[0m\u001b[1;33m]\u001b[0m\u001b[1;33m\u001b[0m\u001b[1;33m\u001b[0m\u001b[0m\n\u001b[0;32m   5593\u001b[0m         \u001b[1;32mreturn\u001b[0m \u001b[0mself\u001b[0m\u001b[1;33m.\u001b[0m\u001b[0mdelete\u001b[0m\u001b[1;33m(\u001b[0m\u001b[0mindexer\u001b[0m\u001b[1;33m)\u001b[0m\u001b[1;33m\u001b[0m\u001b[1;33m\u001b[0m\u001b[0m\n",
      "\u001b[1;31mKeyError\u001b[0m: \"['Due_in_Year'] not found in axis\""
     ]
    }
   ],
   "source": [
    "# Dropping the feature\n",
    "train_set, valid_set, test_set = drop_column(['Due_in_Year'])"
   ]
  },
  {
   "cell_type": "code",
   "execution_count": null,
   "metadata": {},
   "outputs": [],
   "source": []
  },
  {
   "cell_type": "markdown",
   "metadata": {},
   "source": [
    "### MODELLING"
   ]
  },
  {
   "cell_type": "markdown",
   "metadata": {},
   "source": [
    "### >>>>>>> LINEAR REGRESSION MODEL"
   ]
  },
  {
   "cell_type": "code",
   "execution_count": 257,
   "metadata": {},
   "outputs": [],
   "source": [
    "from sklearn.metrics import accuracy_score"
   ]
  },
  {
   "cell_type": "code",
   "execution_count": 258,
   "metadata": {},
   "outputs": [
    {
     "data": {
      "text/html": [
       "<div>\n",
       "<style scoped>\n",
       "    .dataframe tbody tr th:only-of-type {\n",
       "        vertical-align: middle;\n",
       "    }\n",
       "\n",
       "    .dataframe tbody tr th {\n",
       "        vertical-align: top;\n",
       "    }\n",
       "\n",
       "    .dataframe thead th {\n",
       "        text-align: right;\n",
       "    }\n",
       "</style>\n",
       "<table border=\"1\" class=\"dataframe\">\n",
       "  <thead>\n",
       "    <tr style=\"text-align: right;\">\n",
       "      <th></th>\n",
       "      <th>doc_id</th>\n",
       "      <th>total_open_amount</th>\n",
       "      <th>busi_code_enc</th>\n",
       "      <th>Posting_Day</th>\n",
       "      <th>Posting_Month</th>\n",
       "      <th>Posting_Year</th>\n",
       "      <th>Doc_Create_Day</th>\n",
       "      <th>Doc_Create_Month</th>\n",
       "      <th>Doc_Create_Year</th>\n",
       "      <th>Due_in_Day</th>\n",
       "      <th>Due_in_Month</th>\n",
       "    </tr>\n",
       "  </thead>\n",
       "  <tbody>\n",
       "    <tr>\n",
       "      <th>0</th>\n",
       "      <td>1928543601</td>\n",
       "      <td>10831.45</td>\n",
       "      <td>1</td>\n",
       "      <td>30</td>\n",
       "      <td>12</td>\n",
       "      <td>2018</td>\n",
       "      <td>30</td>\n",
       "      <td>12</td>\n",
       "      <td>2018</td>\n",
       "      <td>14</td>\n",
       "      <td>1</td>\n",
       "    </tr>\n",
       "    <tr>\n",
       "      <th>1</th>\n",
       "      <td>1928541075</td>\n",
       "      <td>17414.53</td>\n",
       "      <td>1</td>\n",
       "      <td>30</td>\n",
       "      <td>12</td>\n",
       "      <td>2018</td>\n",
       "      <td>29</td>\n",
       "      <td>12</td>\n",
       "      <td>2018</td>\n",
       "      <td>14</td>\n",
       "      <td>1</td>\n",
       "    </tr>\n",
       "    <tr>\n",
       "      <th>2</th>\n",
       "      <td>1928536614</td>\n",
       "      <td>67824.54</td>\n",
       "      <td>1</td>\n",
       "      <td>30</td>\n",
       "      <td>12</td>\n",
       "      <td>2018</td>\n",
       "      <td>29</td>\n",
       "      <td>12</td>\n",
       "      <td>2018</td>\n",
       "      <td>14</td>\n",
       "      <td>1</td>\n",
       "    </tr>\n",
       "    <tr>\n",
       "      <th>3</th>\n",
       "      <td>1928540649</td>\n",
       "      <td>12190.97</td>\n",
       "      <td>1</td>\n",
       "      <td>30</td>\n",
       "      <td>12</td>\n",
       "      <td>2018</td>\n",
       "      <td>29</td>\n",
       "      <td>12</td>\n",
       "      <td>2018</td>\n",
       "      <td>14</td>\n",
       "      <td>1</td>\n",
       "    </tr>\n",
       "    <tr>\n",
       "      <th>4</th>\n",
       "      <td>1928541513</td>\n",
       "      <td>68116.64</td>\n",
       "      <td>1</td>\n",
       "      <td>30</td>\n",
       "      <td>12</td>\n",
       "      <td>2018</td>\n",
       "      <td>29</td>\n",
       "      <td>12</td>\n",
       "      <td>2018</td>\n",
       "      <td>14</td>\n",
       "      <td>1</td>\n",
       "    </tr>\n",
       "    <tr>\n",
       "      <th>...</th>\n",
       "      <td>...</td>\n",
       "      <td>...</td>\n",
       "      <td>...</td>\n",
       "      <td>...</td>\n",
       "      <td>...</td>\n",
       "      <td>...</td>\n",
       "      <td>...</td>\n",
       "      <td>...</td>\n",
       "      <td>...</td>\n",
       "      <td>...</td>\n",
       "      <td>...</td>\n",
       "    </tr>\n",
       "    <tr>\n",
       "      <th>29328</th>\n",
       "      <td>1930055349</td>\n",
       "      <td>17255.72</td>\n",
       "      <td>1</td>\n",
       "      <td>28</td>\n",
       "      <td>10</td>\n",
       "      <td>2019</td>\n",
       "      <td>26</td>\n",
       "      <td>10</td>\n",
       "      <td>2019</td>\n",
       "      <td>12</td>\n",
       "      <td>11</td>\n",
       "    </tr>\n",
       "    <tr>\n",
       "      <th>29329</th>\n",
       "      <td>1930056503</td>\n",
       "      <td>846.42</td>\n",
       "      <td>1</td>\n",
       "      <td>28</td>\n",
       "      <td>10</td>\n",
       "      <td>2019</td>\n",
       "      <td>27</td>\n",
       "      <td>10</td>\n",
       "      <td>2019</td>\n",
       "      <td>12</td>\n",
       "      <td>11</td>\n",
       "    </tr>\n",
       "    <tr>\n",
       "      <th>29330</th>\n",
       "      <td>1930053925</td>\n",
       "      <td>55364.76</td>\n",
       "      <td>1</td>\n",
       "      <td>28</td>\n",
       "      <td>10</td>\n",
       "      <td>2019</td>\n",
       "      <td>25</td>\n",
       "      <td>10</td>\n",
       "      <td>2019</td>\n",
       "      <td>27</td>\n",
       "      <td>11</td>\n",
       "    </tr>\n",
       "    <tr>\n",
       "      <th>29331</th>\n",
       "      <td>1930056093</td>\n",
       "      <td>19261.85</td>\n",
       "      <td>1</td>\n",
       "      <td>28</td>\n",
       "      <td>10</td>\n",
       "      <td>2019</td>\n",
       "      <td>27</td>\n",
       "      <td>10</td>\n",
       "      <td>2019</td>\n",
       "      <td>12</td>\n",
       "      <td>11</td>\n",
       "    </tr>\n",
       "    <tr>\n",
       "      <th>29332</th>\n",
       "      <td>1930056931</td>\n",
       "      <td>2359.02</td>\n",
       "      <td>1</td>\n",
       "      <td>28</td>\n",
       "      <td>10</td>\n",
       "      <td>2019</td>\n",
       "      <td>27</td>\n",
       "      <td>10</td>\n",
       "      <td>2019</td>\n",
       "      <td>12</td>\n",
       "      <td>11</td>\n",
       "    </tr>\n",
       "  </tbody>\n",
       "</table>\n",
       "<p>28570 rows × 11 columns</p>\n",
       "</div>"
      ],
      "text/plain": [
       "           doc_id  total_open_amount  busi_code_enc  Posting_Day  \\\n",
       "0      1928543601           10831.45              1           30   \n",
       "1      1928541075           17414.53              1           30   \n",
       "2      1928536614           67824.54              1           30   \n",
       "3      1928540649           12190.97              1           30   \n",
       "4      1928541513           68116.64              1           30   \n",
       "...           ...                ...            ...          ...   \n",
       "29328  1930055349           17255.72              1           28   \n",
       "29329  1930056503             846.42              1           28   \n",
       "29330  1930053925           55364.76              1           28   \n",
       "29331  1930056093           19261.85              1           28   \n",
       "29332  1930056931            2359.02              1           28   \n",
       "\n",
       "       Posting_Month  Posting_Year  Doc_Create_Day  Doc_Create_Month  \\\n",
       "0                 12          2018              30                12   \n",
       "1                 12          2018              29                12   \n",
       "2                 12          2018              29                12   \n",
       "3                 12          2018              29                12   \n",
       "4                 12          2018              29                12   \n",
       "...              ...           ...             ...               ...   \n",
       "29328             10          2019              26                10   \n",
       "29329             10          2019              27                10   \n",
       "29330             10          2019              25                10   \n",
       "29331             10          2019              27                10   \n",
       "29332             10          2019              27                10   \n",
       "\n",
       "       Doc_Create_Year  Due_in_Day  Due_in_Month  \n",
       "0                 2018          14             1  \n",
       "1                 2018          14             1  \n",
       "2                 2018          14             1  \n",
       "3                 2018          14             1  \n",
       "4                 2018          14             1  \n",
       "...                ...         ...           ...  \n",
       "29328             2019          12            11  \n",
       "29329             2019          12            11  \n",
       "29330             2019          27            11  \n",
       "29331             2019          12            11  \n",
       "29332             2019          12            11  \n",
       "\n",
       "[28570 rows x 11 columns]"
      ]
     },
     "execution_count": 258,
     "metadata": {},
     "output_type": "execute_result"
    }
   ],
   "source": [
    "from sklearn.linear_model import LinearRegression\n",
    "base_model = LinearRegression()\n",
    "base_model.fit(train_set, y_train)\n",
    "\n",
    "train_set"
   ]
  },
  {
   "cell_type": "markdown",
   "metadata": {},
   "source": [
    "##### Prediction on Validation data"
   ]
  },
  {
   "cell_type": "code",
   "execution_count": 259,
   "metadata": {},
   "outputs": [
    {
     "data": {
      "text/html": [
       "<div>\n",
       "<style scoped>\n",
       "    .dataframe tbody tr th:only-of-type {\n",
       "        vertical-align: middle;\n",
       "    }\n",
       "\n",
       "    .dataframe tbody tr th {\n",
       "        vertical-align: top;\n",
       "    }\n",
       "\n",
       "    .dataframe thead th {\n",
       "        text-align: right;\n",
       "    }\n",
       "</style>\n",
       "<table border=\"1\" class=\"dataframe\">\n",
       "  <thead>\n",
       "    <tr style=\"text-align: right;\">\n",
       "      <th></th>\n",
       "      <th>doc_id</th>\n",
       "      <th>total_open_amount</th>\n",
       "      <th>busi_code_enc</th>\n",
       "      <th>Posting_Day</th>\n",
       "      <th>Posting_Month</th>\n",
       "      <th>Posting_Year</th>\n",
       "      <th>Doc_Create_Day</th>\n",
       "      <th>Doc_Create_Month</th>\n",
       "      <th>Doc_Create_Year</th>\n",
       "      <th>Due_in_Day</th>\n",
       "      <th>Due_in_Month</th>\n",
       "    </tr>\n",
       "  </thead>\n",
       "  <tbody>\n",
       "    <tr>\n",
       "      <th>8453</th>\n",
       "      <td>1930046849</td>\n",
       "      <td>1296.080000</td>\n",
       "      <td>1</td>\n",
       "      <td>28</td>\n",
       "      <td>10</td>\n",
       "      <td>2019</td>\n",
       "      <td>23</td>\n",
       "      <td>10</td>\n",
       "      <td>2019</td>\n",
       "      <td>12</td>\n",
       "      <td>11</td>\n",
       "    </tr>\n",
       "    <tr>\n",
       "      <th>579</th>\n",
       "      <td>1930057447</td>\n",
       "      <td>537.950000</td>\n",
       "      <td>1</td>\n",
       "      <td>28</td>\n",
       "      <td>10</td>\n",
       "      <td>2019</td>\n",
       "      <td>28</td>\n",
       "      <td>10</td>\n",
       "      <td>2019</td>\n",
       "      <td>12</td>\n",
       "      <td>11</td>\n",
       "    </tr>\n",
       "    <tr>\n",
       "      <th>680</th>\n",
       "      <td>1930055165</td>\n",
       "      <td>18625.990000</td>\n",
       "      <td>1</td>\n",
       "      <td>28</td>\n",
       "      <td>10</td>\n",
       "      <td>2019</td>\n",
       "      <td>26</td>\n",
       "      <td>10</td>\n",
       "      <td>2019</td>\n",
       "      <td>12</td>\n",
       "      <td>11</td>\n",
       "    </tr>\n",
       "    <tr>\n",
       "      <th>26758</th>\n",
       "      <td>1930054194</td>\n",
       "      <td>63744.840000</td>\n",
       "      <td>1</td>\n",
       "      <td>28</td>\n",
       "      <td>10</td>\n",
       "      <td>2019</td>\n",
       "      <td>26</td>\n",
       "      <td>10</td>\n",
       "      <td>2019</td>\n",
       "      <td>12</td>\n",
       "      <td>11</td>\n",
       "    </tr>\n",
       "    <tr>\n",
       "      <th>38686</th>\n",
       "      <td>1930058840</td>\n",
       "      <td>40237.770000</td>\n",
       "      <td>1</td>\n",
       "      <td>28</td>\n",
       "      <td>10</td>\n",
       "      <td>2019</td>\n",
       "      <td>28</td>\n",
       "      <td>10</td>\n",
       "      <td>2019</td>\n",
       "      <td>12</td>\n",
       "      <td>11</td>\n",
       "    </tr>\n",
       "    <tr>\n",
       "      <th>...</th>\n",
       "      <td>...</td>\n",
       "      <td>...</td>\n",
       "      <td>...</td>\n",
       "      <td>...</td>\n",
       "      <td>...</td>\n",
       "      <td>...</td>\n",
       "      <td>...</td>\n",
       "      <td>...</td>\n",
       "      <td>...</td>\n",
       "      <td>...</td>\n",
       "      <td>...</td>\n",
       "    </tr>\n",
       "    <tr>\n",
       "      <th>3638</th>\n",
       "      <td>1991836682</td>\n",
       "      <td>16511.050000</td>\n",
       "      <td>5</td>\n",
       "      <td>31</td>\n",
       "      <td>12</td>\n",
       "      <td>2019</td>\n",
       "      <td>31</td>\n",
       "      <td>12</td>\n",
       "      <td>2019</td>\n",
       "      <td>14</td>\n",
       "      <td>2</td>\n",
       "    </tr>\n",
       "    <tr>\n",
       "      <th>15895</th>\n",
       "      <td>1930378092</td>\n",
       "      <td>9343.970000</td>\n",
       "      <td>1</td>\n",
       "      <td>31</td>\n",
       "      <td>12</td>\n",
       "      <td>2019</td>\n",
       "      <td>8</td>\n",
       "      <td>1</td>\n",
       "      <td>2020</td>\n",
       "      <td>3</td>\n",
       "      <td>2</td>\n",
       "    </tr>\n",
       "    <tr>\n",
       "      <th>38904</th>\n",
       "      <td>1930323729</td>\n",
       "      <td>10073.080000</td>\n",
       "      <td>1</td>\n",
       "      <td>31</td>\n",
       "      <td>12</td>\n",
       "      <td>2019</td>\n",
       "      <td>30</td>\n",
       "      <td>12</td>\n",
       "      <td>2019</td>\n",
       "      <td>15</td>\n",
       "      <td>1</td>\n",
       "    </tr>\n",
       "    <tr>\n",
       "      <th>8639</th>\n",
       "      <td>1930332682</td>\n",
       "      <td>21663.760000</td>\n",
       "      <td>1</td>\n",
       "      <td>31</td>\n",
       "      <td>12</td>\n",
       "      <td>2019</td>\n",
       "      <td>31</td>\n",
       "      <td>12</td>\n",
       "      <td>2019</td>\n",
       "      <td>15</td>\n",
       "      <td>1</td>\n",
       "    </tr>\n",
       "    <tr>\n",
       "      <th>31562</th>\n",
       "      <td>-2147483648</td>\n",
       "      <td>14156.504065</td>\n",
       "      <td>0</td>\n",
       "      <td>31</td>\n",
       "      <td>12</td>\n",
       "      <td>2019</td>\n",
       "      <td>31</td>\n",
       "      <td>12</td>\n",
       "      <td>2019</td>\n",
       "      <td>14</td>\n",
       "      <td>1</td>\n",
       "    </tr>\n",
       "  </tbody>\n",
       "</table>\n",
       "<p>4889 rows × 11 columns</p>\n",
       "</div>"
      ],
      "text/plain": [
       "           doc_id  total_open_amount  busi_code_enc  Posting_Day  \\\n",
       "8453   1930046849        1296.080000              1           28   \n",
       "579    1930057447         537.950000              1           28   \n",
       "680    1930055165       18625.990000              1           28   \n",
       "26758  1930054194       63744.840000              1           28   \n",
       "38686  1930058840       40237.770000              1           28   \n",
       "...           ...                ...            ...          ...   \n",
       "3638   1991836682       16511.050000              5           31   \n",
       "15895  1930378092        9343.970000              1           31   \n",
       "38904  1930323729       10073.080000              1           31   \n",
       "8639   1930332682       21663.760000              1           31   \n",
       "31562 -2147483648       14156.504065              0           31   \n",
       "\n",
       "       Posting_Month  Posting_Year  Doc_Create_Day  Doc_Create_Month  \\\n",
       "8453              10          2019              23                10   \n",
       "579               10          2019              28                10   \n",
       "680               10          2019              26                10   \n",
       "26758             10          2019              26                10   \n",
       "38686             10          2019              28                10   \n",
       "...              ...           ...             ...               ...   \n",
       "3638              12          2019              31                12   \n",
       "15895             12          2019               8                 1   \n",
       "38904             12          2019              30                12   \n",
       "8639              12          2019              31                12   \n",
       "31562             12          2019              31                12   \n",
       "\n",
       "       Doc_Create_Year  Due_in_Day  Due_in_Month  \n",
       "8453              2019          12            11  \n",
       "579               2019          12            11  \n",
       "680               2019          12            11  \n",
       "26758             2019          12            11  \n",
       "38686             2019          12            11  \n",
       "...                ...         ...           ...  \n",
       "3638              2019          14             2  \n",
       "15895             2020           3             2  \n",
       "38904             2019          15             1  \n",
       "8639              2019          15             1  \n",
       "31562             2019          14             1  \n",
       "\n",
       "[4889 rows x 11 columns]"
      ]
     },
     "execution_count": 259,
     "metadata": {},
     "output_type": "execute_result"
    }
   ],
   "source": [
    "from sklearn.metrics import mean_squared_error\n",
    "y_predict = base_model.predict(valid_set)\n",
    "# Calculating the mean error\n",
    "mean_squared_error(y_valid, y_predict, squared=False)\n",
    "valid_set"
   ]
  },
  {
   "cell_type": "markdown",
   "metadata": {},
   "source": [
    "### >>>>>>> DECISION TREE  MODEL"
   ]
  },
  {
   "cell_type": "code",
   "execution_count": 260,
   "metadata": {},
   "outputs": [
    {
     "data": {
      "text/plain": [
       "DecisionTreeRegressor(max_depth=2, max_leaf_nodes=2,\n",
       "                      min_weight_fraction_leaf=0.1, random_state=0)"
      ]
     },
     "execution_count": 260,
     "metadata": {},
     "output_type": "execute_result"
    }
   ],
   "source": [
    "from sklearn.tree import DecisionTreeRegressor\n",
    "regressor = DecisionTreeRegressor(max_depth=2, min_weight_fraction_leaf=0.1, random_state=0, max_leaf_nodes=2)\n",
    "regressor.fit(train_set, y_train)"
   ]
  },
  {
   "cell_type": "markdown",
   "metadata": {},
   "source": [
    "##### Prediction on Validation data"
   ]
  },
  {
   "cell_type": "code",
   "execution_count": 261,
   "metadata": {},
   "outputs": [
    {
     "data": {
      "text/plain": [
       "6.086814326041177"
      ]
     },
     "execution_count": 261,
     "metadata": {},
     "output_type": "execute_result"
    }
   ],
   "source": [
    "y_predict2 = regressor.predict(valid_set)\n",
    "mean_squared_error(y_valid, y_predict2, squared=False)\n"
   ]
  },
  {
   "cell_type": "markdown",
   "metadata": {},
   "source": [
    "##### Prediction on mini-Testing data"
   ]
  },
  {
   "cell_type": "code",
   "execution_count": 262,
   "metadata": {},
   "outputs": [
    {
     "data": {
      "text/plain": [
       "11.683501178154893"
      ]
     },
     "execution_count": 262,
     "metadata": {},
     "output_type": "execute_result"
    }
   ],
   "source": [
    "y_predict3 = regressor.predict(test_set)\n",
    "mean_squared_error(y_test, y_predict3, squared=False)"
   ]
  },
  {
   "cell_type": "code",
   "execution_count": null,
   "metadata": {},
   "outputs": [],
   "source": []
  }
 ],
 "metadata": {
  "kernelspec": {
   "display_name": "Python 3",
   "language": "python",
   "name": "python3"
  },
  "language_info": {
   "codemirror_mode": {
    "name": "ipython",
    "version": 3
   },
   "file_extension": ".py",
   "mimetype": "text/x-python",
   "name": "python",
   "nbconvert_exporter": "python",
   "pygments_lexer": "ipython3",
   "version": "3.8.3"
  }
 },
 "nbformat": 4,
 "nbformat_minor": 4
}
